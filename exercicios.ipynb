{
 "cells": [
  {
   "cell_type": "code",
   "execution_count": 101,
   "metadata": {},
   "outputs": [],
   "source": [
    "## Implementação de recursividade para sequencia de fibonacci\n",
    "\n",
    "def fibonacci(n):\n",
    "    \n",
    "    if (n == 1) or (n==2):\n",
    "        return 1\n",
    "    else:\n",
    "        return fibonacci(n-1) + fibonacci(n-2)"
   ]
  },
  {
   "cell_type": "code",
   "execution_count": 102,
   "metadata": {},
   "outputs": [
    {
     "name": "stdout",
     "output_type": "stream",
     "text": [
      "CPU times: user 35 µs, sys: 0 ns, total: 35 µs\n",
      "Wall time: 38.9 µs\n"
     ]
    },
    {
     "data": {
      "text/plain": [
       "55"
      ]
     },
     "execution_count": 102,
     "metadata": {},
     "output_type": "execute_result"
    }
   ],
   "source": [
    "%%time\n",
    "fibonacci(10)"
   ]
  },
  {
   "cell_type": "markdown",
   "metadata": {},
   "source": [
    "![recursive](recursive.png)"
   ]
  },
  {
   "cell_type": "code",
   "execution_count": 103,
   "metadata": {},
   "outputs": [],
   "source": [
    "## Implementação de recursividade com memorização de valores (sem utilização de built-in tools)\n",
    "\n",
    "fibo_cache = {}\n",
    "\n",
    "def fibonacci_memo(n):\n",
    "    \n",
    "    if n in fibo_cache:\n",
    "        return fibo_cache[n]\n",
    "    \n",
    "    if (n == 1) or (n==2):\n",
    "    \n",
    "        value = 1\n",
    "    \n",
    "    else:\n",
    "    \n",
    "        value = fibonacci_memo(n-1) + fibonacci_memo(n-2)\n",
    "\n",
    "    \n",
    "    fibo_cache[n] = value\n",
    "    return value"
   ]
  },
  {
   "cell_type": "code",
   "execution_count": 104,
   "metadata": {},
   "outputs": [
    {
     "name": "stdout",
     "output_type": "stream",
     "text": [
      "CPU times: user 20 µs, sys: 1e+03 ns, total: 21 µs\n",
      "Wall time: 26.5 µs\n"
     ]
    },
    {
     "data": {
      "text/plain": [
       "55"
      ]
     },
     "execution_count": 104,
     "metadata": {},
     "output_type": "execute_result"
    }
   ],
   "source": [
    "%%time\n",
    "fibonacci_memo(10)"
   ]
  },
  {
   "cell_type": "markdown",
   "metadata": {},
   "source": [
    "No exemplo acima guardamos os valores da função já calculados para não ter que efetuarmos chamadas recursivas desnecessárias.\n",
    "\n",
    "No exemplo fibonacci(6):\n",
    "\n",
    "\n",
    "fibonacci(6) = fibonacci(5) + fibonacci(4)\n",
    "\n",
    ".......................fibonacci(4) + fibonacci(3) + fibonacci(3) + fibonacci(2)\n",
    "\n",
    ".......................fibonacci(3) + fibonacci(2) + fibonacci(2) + fibonacci(1) + fibonacci(2) + fibonacci(1) + 1\n",
    "\n",
    ".......................fibonacci(2) + fibonacci(1) + 1 + 1 + 1 + 1 + 1 + 1\n",
    "\n",
    ".......................1 + 1 + 1 + 1 + 1 + 1 + 1 + 1\n",
    "\n",
    ".......................8\n",
    "\n",
    "\n",
    "Percebemos que fibonacci(3) e fibonacci(4) foram chamados várias vezes o que aumenta a quantidade de vezes que ele deverá ser quebrado em fraçoes menores. Porem se o resultado dessa função já estiver em cache podemos simplesmente substituir uma chamada inteira e sua decomposição por um valor já calculado previamente."
   ]
  },
  {
   "cell_type": "code",
   "execution_count": 105,
   "metadata": {},
   "outputs": [],
   "source": [
    "from functools import lru_cache\n",
    "\n",
    "@lru_cache(maxsize = 1000)\n",
    "def fibonacci_lru(n):\n",
    "    \n",
    "    if (n == 1) or (n==2):\n",
    "    \n",
    "        return 1\n",
    "    \n",
    "    else:\n",
    "    \n",
    "        return fibonacci_memo(n-1) + fibonacci_memo(n-2)"
   ]
  },
  {
   "cell_type": "code",
   "execution_count": 106,
   "metadata": {},
   "outputs": [
    {
     "name": "stdout",
     "output_type": "stream",
     "text": [
      "CPU times: user 14 µs, sys: 0 ns, total: 14 µs\n",
      "Wall time: 21.2 µs\n"
     ]
    },
    {
     "data": {
      "text/plain": [
       "55"
      ]
     },
     "execution_count": 106,
     "metadata": {},
     "output_type": "execute_result"
    }
   ],
   "source": [
    "%%time\n",
    "fibonacci_lru(10)"
   ]
  },
  {
   "cell_type": "markdown",
   "metadata": {},
   "source": [
    "## Exercícios\n",
    "\n",
    "1. Write a Python program to get the factorial of a non-negative integer\n",
    "2. Write a Python program to find  the greatest common divisor (gcd) of two integers\n",
    "3. Write a Python program to calculate the value of 'a' to the power 'b'\n",
    "___"
   ]
  },
  {
   "cell_type": "code",
   "execution_count": 72,
   "metadata": {},
   "outputs": [],
   "source": [
    "def fatorial(n):\n",
    "    if n<0:\n",
    "        raise ValueError('n must be a non-negative interger.')\n",
    "    \n",
    "    if (n == 0) or (n == 1):\n",
    "        return 1\n",
    "    else:\n",
    "        return n * fatorial(n-1)"
   ]
  },
  {
   "cell_type": "code",
   "execution_count": 75,
   "metadata": {},
   "outputs": [
    {
     "name": "stdout",
     "output_type": "stream",
     "text": [
      "CPU times: user 3 µs, sys: 0 ns, total: 3 µs\n",
      "Wall time: 5.96 µs\n"
     ]
    },
    {
     "data": {
      "text/plain": [
       "3628800"
      ]
     },
     "execution_count": 75,
     "metadata": {},
     "output_type": "execute_result"
    }
   ],
   "source": [
    "%time\n",
    "fatorial(10)"
   ]
  },
  {
   "cell_type": "markdown",
   "metadata": {},
   "source": [
    "___"
   ]
  },
  {
   "cell_type": "code",
   "execution_count": 87,
   "metadata": {},
   "outputs": [],
   "source": [
    "@lru_cache()\n",
    "def gcd(a,b):\n",
    "    \n",
    "    low = min(a,b)\n",
    "    high = max(a,b)\n",
    "    \n",
    "    if low == 0:\n",
    "        return high\n",
    "    elif low == 1:\n",
    "        return 1\n",
    "    else:\n",
    "        return gcd(low,high%low)"
   ]
  },
  {
   "cell_type": "code",
   "execution_count": 88,
   "metadata": {},
   "outputs": [
    {
     "data": {
      "text/plain": [
       "6"
      ]
     },
     "execution_count": 88,
     "metadata": {},
     "output_type": "execute_result"
    }
   ],
   "source": [
    "gcd(54,24)"
   ]
  },
  {
   "cell_type": "markdown",
   "metadata": {},
   "source": [
    "___"
   ]
  },
  {
   "cell_type": "code",
   "execution_count": 91,
   "metadata": {},
   "outputs": [],
   "source": [
    "@lru_cache()\n",
    "def power(a,b):\n",
    "    if b == 0:\n",
    "        return 1\n",
    "    elif a == 0:\n",
    "        return 0\n",
    "    elif b == 1:\n",
    "        return a\n",
    "    else:\n",
    "        return a*power(a,b-1)"
   ]
  },
  {
   "cell_type": "code",
   "execution_count": 100,
   "metadata": {},
   "outputs": [
    {
     "name": "stdout",
     "output_type": "stream",
     "text": [
      "CPU times: user 2 µs, sys: 0 ns, total: 2 µs\n",
      "Wall time: 4.53 µs\n"
     ]
    },
    {
     "data": {
      "text/plain": [
       "502838391645289610913636281547137800076969566094004674884909697639578491442117882120879462365615886524493382410021609870349940107950976498754746492695689513547408973189926868540605182720229306488315603441710015216127581121080291557338300955576173860956692753938889888946144265793922002537378241720528773255809494773286418703597903230413850612153094390497107634404193193927754572280985391459451200573971117838895441343354450779361167781175909751435537820915822943423352617757543505342951642411965316747368958306408247557662865163424726273443857851724941818938496159701597618396890107031136856408159820755809817410578616405331895391104910802599998697223178864863529906686777122895854993026045521713651836444287398790053314843203"
      ]
     },
     "execution_count": 100,
     "metadata": {},
     "output_type": "execute_result"
    }
   ],
   "source": [
    "%time\n",
    "power(3,1521)"
   ]
  }
 ],
 "metadata": {
  "kernelspec": {
   "display_name": "Python [conda env:root] *",
   "language": "python",
   "name": "conda-root-py"
  },
  "language_info": {
   "codemirror_mode": {
    "name": "ipython",
    "version": 3
   },
   "file_extension": ".py",
   "mimetype": "text/x-python",
   "name": "python",
   "nbconvert_exporter": "python",
   "pygments_lexer": "ipython3",
   "version": "3.7.6"
  }
 },
 "nbformat": 4,
 "nbformat_minor": 4
}
